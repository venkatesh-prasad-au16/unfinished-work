{
  "nbformat": 4,
  "nbformat_minor": 0,
  "metadata": {
    "colab": {
      "name": "FI_Model Development (Keras)_v5.ipynb",
      "provenance": [],
      "collapsed_sections": []
    },
    "kernelspec": {
      "name": "python3",
      "display_name": "Python 3"
    },
    "accelerator": "GPU"
  },
  "cells": [
    {
      "cell_type": "markdown",
      "metadata": {
        "id": "YiaqewdvIpLJ"
      },
      "source": [
        "Keras CNN Model with Relu Activation and 0.6 Drop out\r\n"
      ]
    },
    {
      "cell_type": "code",
      "metadata": {
        "id": "7tSNBzg2xzkj"
      },
      "source": [
        "from __future__ import print_function, division\n",
        "import numpy as np\n",
        "import matplotlib.pyplot as plt\n",
        "import time\n",
        "import os\n",
        "import copy\n",
        "import numpy as np # linear algebra\n",
        "import pandas as pd # data processing, CSV file I/O (e.g. pd.read_csv)\n",
        "from tqdm import tqdm_notebook as tqdm\n",
        "from sklearn.preprocessing import LabelEncoder\n",
        "import PIL\n",
        "from PIL import Image\n",
        "import random\n",
        "from scipy import ndarray\n",
        "\n",
        "# image processing library\n",
        "import skimage as sk\n",
        "from skimage import transform\n",
        "from skimage import util\n",
        "from skimage import io\n",
        "from skimage.util import img_as_ubyte, img_as_float\n",
        "from skimage.transform import warp, AffineTransform, ProjectiveTransform\n",
        "from skimage.exposure import equalize_adapthist, equalize_hist, rescale_intensity, adjust_gamma, adjust_log, adjust_sigmoid\n",
        "from skimage.filters import gaussian\n",
        "from skimage.util import random_noise"
      ],
      "execution_count": null,
      "outputs": []
    },
    {
      "cell_type": "code",
      "metadata": {
        "id": "i1q6BOQQuHBH"
      },
      "source": [
        "import tensorflow as tf\r\n",
        "from tensorflow import keras\r\n",
        "from tensorflow.keras import layers\r\n",
        "import h5py"
      ],
      "execution_count": null,
      "outputs": []
    },
    {
      "cell_type": "code",
      "metadata": {
        "id": "LBahmF2RgXz3"
      },
      "source": [
        "device_name = tf.test.gpu_device_name()\n",
        "if device_name != '/device:GPU:0':\n",
        "  print(\n",
        "      '\\n\\nThis error most likely means that this notebook is not '\n",
        "      'configured to use a GPU.  Change this in Notebook Settings via the '\n",
        "      'command palette (cmd/ctrl-shift-P) or the Edit menu.\\n\\n')\n",
        "  raise SystemError('GPU device not found')"
      ],
      "execution_count": null,
      "outputs": []
    },
    {
      "cell_type": "code",
      "metadata": {
        "colab": {
          "base_uri": "https://localhost:8080/"
        },
        "id": "aWFA3t2lECE7",
        "outputId": "9254c3aa-4b5c-413d-f0d2-60e82992d447"
      },
      "source": [
        "# Load the Drive helper and mount\n",
        "from google.colab import drive\n",
        "# drive.mount('/content/drive/')\n",
        "drive.mount('/content/drive/', force_remount=True) #DC updated\n",
        "FI_dir = \"/content/drive/MyDrive/Foot images3\""
      ],
      "execution_count": null,
      "outputs": [
        {
          "output_type": "stream",
          "text": [
            "Mounted at /content/drive/\n"
          ],
          "name": "stdout"
        }
      ]
    },
    {
      "cell_type": "code",
      "metadata": {
        "colab": {
          "base_uri": "https://localhost:8080/"
        },
        "id": "NkTpxrBpwR1V",
        "outputId": "5fde26eb-a003-47ea-b9f3-1f90e59a3cf1"
      },
      "source": [
        "print(os.listdir(FI_dir))"
      ],
      "execution_count": null,
      "outputs": [
        {
          "output_type": "stream",
          "text": [
            "['SEVERE', 'HIGH ARCH', 'NORMAL ARCH', 'MILD', 'MODERATE', 'model_v2.json', 'model_v2.h5', 'model_v3.json', 'model_v3.h5']\n"
          ],
          "name": "stdout"
        }
      ]
    },
    {
      "cell_type": "code",
      "metadata": {
        "id": "TkG0ZGZbwukI"
      },
      "source": [
        "image=[]\r\n",
        "labels=[]\r\n",
        "for f in os.listdir(FI_dir):\r\n",
        "  if f=='MILD':\r\n",
        "    for c in os.listdir(os.path.join(FI_dir, f)):\r\n",
        "      image.append(os.path.join(FI_dir, f,c))\r\n",
        "      labels.append('MILD')\r\n",
        "  if f=='SEVERE':\r\n",
        "    for c in os.listdir(os.path.join(FI_dir, f)):\r\n",
        "      image.append(os.path.join(FI_dir, f,c))\r\n",
        "      labels.append('SEVERE')\r\n",
        "  if f=='MODERATE':\r\n",
        "    for c in os.listdir(os.path.join(FI_dir, f)):\r\n",
        "      image.append(os.path.join(FI_dir, f,c))\r\n",
        "      labels.append('MODERATE')\r\n",
        "  if f=='HIGH ARCH':\r\n",
        "      for c in os.listdir(os.path.join(FI_dir, f)):\r\n",
        "        image.append(os.path.join(FI_dir, f,c))\r\n",
        "        labels.append('HIGH ARCH')\r\n",
        "  if f=='NORMAL ARCH':\r\n",
        "      for c in os.listdir(os.path.join(FI_dir, f)):\r\n",
        "        image.append(os.path.join(FI_dir, f,c))\r\n",
        "        labels.append('NORMAL ARCH')\r\n",
        "imagedata = {'Images':image, 'labels':labels} \r\n",
        "image_data = pd.DataFrame(imagedata) "
      ],
      "execution_count": null,
      "outputs": []
    },
    {
      "cell_type": "code",
      "metadata": {
        "colab": {
          "base_uri": "https://localhost:8080/"
        },
        "id": "OwJcsrDRyUlt",
        "outputId": "a800d1b3-4463-4a5a-fcd0-dd70ea6f5cd5"
      },
      "source": [
        "#image_data.head()\r\n",
        "image_data.groupby(['labels']).size()"
      ],
      "execution_count": null,
      "outputs": [
        {
          "output_type": "execute_result",
          "data": {
            "text/plain": [
              "labels\n",
              "HIGH ARCH      2269\n",
              "MILD           2312\n",
              "MODERATE       2381\n",
              "NORMAL ARCH    2347\n",
              "SEVERE         2348\n",
              "dtype: int64"
            ]
          },
          "metadata": {
            "tags": []
          },
          "execution_count": 7
        }
      ]
    },
    {
      "cell_type": "code",
      "metadata": {
        "colab": {
          "base_uri": "https://localhost:8080/"
        },
        "id": "2arfKCSI5KTO",
        "outputId": "824e1811-8a8e-4f1c-80d1-9353fa03f544"
      },
      "source": [
        "image_size = (500, 500)\n",
        "batch_size = 20\n",
        "\n",
        "train_ds = tf.keras.preprocessing.image_dataset_from_directory(\n",
        "    FI_dir,\n",
        "    validation_split=0.2,\n",
        "    subset=\"training\",\n",
        "    seed=3333,\n",
        "    image_size=image_size,\n",
        "    batch_size=batch_size,\n",
        ")\n",
        "val_ds = tf.keras.preprocessing.image_dataset_from_directory(\n",
        "    FI_dir,\n",
        "    validation_split=0.2,\n",
        "    subset=\"validation\",\n",
        "    seed=3333,\n",
        "    image_size=image_size,\n",
        "    batch_size=batch_size,\n",
        ")"
      ],
      "execution_count": null,
      "outputs": [
        {
          "output_type": "stream",
          "text": [
            "Found 11657 files belonging to 5 classes.\n",
            "Using 9326 files for training.\n",
            "Found 11657 files belonging to 5 classes.\n",
            "Using 2331 files for validation.\n"
          ],
          "name": "stdout"
        }
      ]
    },
    {
      "cell_type": "code",
      "metadata": {
        "colab": {
          "base_uri": "https://localhost:8080/"
        },
        "id": "Kiz4OlUs361x",
        "outputId": "66eea3cd-dc76-4cee-b695-00e3c048e68a"
      },
      "source": [
        "train_ds"
      ],
      "execution_count": null,
      "outputs": [
        {
          "output_type": "execute_result",
          "data": {
            "text/plain": [
              "<BatchDataset shapes: ((None, 500, 500, 3), (None,)), types: (tf.float32, tf.int32)>"
            ]
          },
          "metadata": {
            "tags": []
          },
          "execution_count": 9
        }
      ]
    },
    {
      "cell_type": "code",
      "metadata": {
        "id": "H1D5zURN1MKW"
      },
      "source": [
        "from keras.models import Sequential\r\n",
        "from keras.layers import Dense, Conv2D , MaxPool2D , Flatten , Dropout \r\n",
        "#from keras.preprocessing.image import ImageDataGenerator\r\n",
        "from keras.optimizers import Adam"
      ],
      "execution_count": null,
      "outputs": []
    },
    {
      "cell_type": "code",
      "metadata": {
        "colab": {
          "base_uri": "https://localhost:8080/"
        },
        "id": "y3DN7lh95xKL",
        "outputId": "6b9659de-104a-4955-9188-93ca3deaa8fe"
      },
      "source": [
        "model = Sequential()\r\n",
        "model.add(Conv2D(32,3,padding=\"same\", activation=\"relu\", input_shape=(500,500,3)))\r\n",
        "model.add(MaxPool2D())\r\n",
        "model.add(Dropout(0.6))\r\n",
        "model.add(Flatten())\r\n",
        "model.add(Dense(5, activation=\"softmax\"))\r\n",
        "\r\n",
        "model.summary()"
      ],
      "execution_count": null,
      "outputs": [
        {
          "output_type": "stream",
          "text": [
            "Model: \"sequential\"\n",
            "_________________________________________________________________\n",
            "Layer (type)                 Output Shape              Param #   \n",
            "=================================================================\n",
            "conv2d (Conv2D)              (None, 500, 500, 32)      896       \n",
            "_________________________________________________________________\n",
            "max_pooling2d (MaxPooling2D) (None, 250, 250, 32)      0         \n",
            "_________________________________________________________________\n",
            "dropout (Dropout)            (None, 250, 250, 32)      0         \n",
            "_________________________________________________________________\n",
            "flatten (Flatten)            (None, 2000000)           0         \n",
            "_________________________________________________________________\n",
            "dense (Dense)                (None, 5)                 10000005  \n",
            "=================================================================\n",
            "Total params: 10,000,901\n",
            "Trainable params: 10,000,901\n",
            "Non-trainable params: 0\n",
            "_________________________________________________________________\n"
          ],
          "name": "stdout"
        }
      ]
    },
    {
      "cell_type": "code",
      "metadata": {
        "id": "kOTJt1Zr6OKU"
      },
      "source": [
        "# opt = Adam(lr=0.000001)\r\n",
        "opt = Adam(lr=0.0001) #DC updated\r\n",
        "# model.compile(optimizer = opt , loss = tf.keras.losses.SparseCategoricalCrossentropy(from_logits=True) , metrics = ['accuracy'])\r\n",
        "model.compile(optimizer = opt , loss = tf.keras.losses.SparseCategoricalCrossentropy(from_logits=False) , metrics = ['accuracy']) #DC updated"
      ],
      "execution_count": null,
      "outputs": []
    },
    {
      "cell_type": "code",
      "metadata": {
        "colab": {
          "base_uri": "https://localhost:8080/"
        },
        "id": "OesBYOKd6QpK",
        "outputId": "000359b5-615c-4159-c0c4-6a9227e5ef80"
      },
      "source": [
        "history = model.fit(train_ds,epochs = 5 , validation_data = val_ds)"
      ],
      "execution_count": null,
      "outputs": [
        {
          "output_type": "stream",
          "text": [
            "Epoch 1/5\n",
            "467/467 [==============================] - 7220s 15s/step - loss: 448.6331 - accuracy: 0.3369 - val_loss: 23.7595 - val_accuracy: 0.6371\n",
            "Epoch 2/5\n",
            "467/467 [==============================] - 124s 263ms/step - loss: 17.1946 - accuracy: 0.6862 - val_loss: 10.8172 - val_accuracy: 0.6542\n",
            "Epoch 3/5\n",
            "467/467 [==============================] - 122s 259ms/step - loss: 4.4271 - accuracy: 0.7978 - val_loss: 8.5111 - val_accuracy: 0.7177\n",
            "Epoch 4/5\n",
            "467/467 [==============================] - 124s 263ms/step - loss: 3.4672 - accuracy: 0.8387 - val_loss: 8.7606 - val_accuracy: 0.7272\n",
            "Epoch 5/5\n",
            "467/467 [==============================] - 123s 261ms/step - loss: 2.7094 - accuracy: 0.8731 - val_loss: 9.1500 - val_accuracy: 0.7186\n"
          ],
          "name": "stdout"
        }
      ]
    },
    {
      "cell_type": "code",
      "metadata": {
        "id": "U45xw5gW6UZZ",
        "colab": {
          "base_uri": "https://localhost:8080/",
          "height": 435
        },
        "outputId": "40e07e17-705f-4088-c680-6e889a9bd6b3"
      },
      "source": [
        "acc = history.history['accuracy']\r\n",
        "val_acc = history.history['val_accuracy']\r\n",
        "loss = history.history['loss']\r\n",
        "val_loss = history.history['val_loss']\r\n",
        "\r\n",
        "epochs_range = range(5)\r\n",
        "\r\n",
        "plt.figure(figsize=(15, 15))\r\n",
        "plt.subplot(2, 2, 1)\r\n",
        "plt.plot(epochs_range, acc, label='Training Accuracy')\r\n",
        "plt.plot(epochs_range, val_acc, label='Validation Accuracy')\r\n",
        "plt.legend(loc='lower right')\r\n",
        "plt.title('Training and Validation Accuracy')\r\n",
        "\r\n",
        "plt.subplot(2, 2, 2)\r\n",
        "plt.plot(epochs_range, loss, label='Training Loss')\r\n",
        "plt.plot(epochs_range, val_loss, label='Validation Loss')\r\n",
        "plt.legend(loc='upper right')\r\n",
        "plt.title('Training and Validation Loss')\r\n",
        "plt.show()"
      ],
      "execution_count": null,
      "outputs": [
        {
          "output_type": "display_data",
          "data": {
            "image/png": "[encoded data removed]",
            "text/plain": [
              "<Figure size 1080x1080 with 2 Axes>"
            ]
          },
          "metadata": {
            "tags": [],
            "needs_background": "light"
          }
        }
      ]
    },
    {
      "cell_type": "code",
      "metadata": {
        "id": "TPw9WdXQeeMD"
      },
      "source": [
        "#from keras.models import model_from_json"
      ],
      "execution_count": null,
      "outputs": []
    },
    {
      "cell_type": "code",
      "metadata": {
        "id": "BOCKGEyLejqi"
      },
      "source": [
        "# serialize model to JSON\r\n",
        "#model_json = model.to_json()"
      ],
      "execution_count": null,
      "outputs": []
    },
    {
      "cell_type": "code",
      "metadata": {
        "id": "JLVZhYC3epzD"
      },
      "source": [
        "#with open(\"/content/drive/MyDrive/Foot images3/model_v3.json\", \"w\") as json_file:\r\n",
        "#    json_file.write(model_json)\r\n",
        "#model.save_weights(\"/content/drive/MyDrive/Foot images3/model_v3.h5\")\r\n",
        "#print(\"Saved model to disk\")\r\n",
        "   "
      ],
      "execution_count": null,
      "outputs": []
    }
  ]
}